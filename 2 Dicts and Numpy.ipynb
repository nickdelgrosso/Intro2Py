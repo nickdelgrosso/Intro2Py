{
 "cells": [
  {
   "cell_type": "markdown",
   "id": "democratic-march",
   "metadata": {
    "slideshow": {
     "slide_type": "slide"
    }
   },
   "source": [
    "## Grouping Together Your Data into a Collection\n",
    "Python also has operators for collecting related data together.  Most of this course will revolve around the pros and cons of different ways of collecting data, but let's take a look at them:\n",
    "\n",
    "| \"tuple\" (fixed sequence) | \"list\" (changeable sequence) | \"str\" (sequence of text characters) |  \"set\" {mathematical set) \n",
    "| :---------:| :----:    | :--------:    | :--------:    |\n",
    "|  (1, 2, 3) | [1, 2, 3] | \"123\" or '123' | {1, 2, 3} |"
   ]
  },
  {
   "cell_type": "markdown",
   "id": "failing-muslim",
   "metadata": {
    "slideshow": {
     "slide_type": "subslide"
    }
   },
   "source": [
    "#### Exercises: Making Collections"
   ]
  },
  {
   "cell_type": "markdown",
   "id": "neither-carry",
   "metadata": {},
   "source": [
    "Make four difference types of sequences, each containing only the numbers from 1 to 5."
   ]
  },
  {
   "cell_type": "code",
   "execution_count": null,
   "id": "living-sellers",
   "metadata": {},
   "outputs": [],
   "source": []
  },
  {
   "cell_type": "code",
   "execution_count": null,
   "id": "cleared-drilling",
   "metadata": {},
   "outputs": [],
   "source": []
  },
  {
   "cell_type": "code",
   "execution_count": null,
   "id": "bacterial-engineering",
   "metadata": {},
   "outputs": [],
   "source": []
  },
  {
   "cell_type": "code",
   "execution_count": null,
   "id": "amended-merchant",
   "metadata": {},
   "outputs": [],
   "source": []
  },
  {
   "cell_type": "markdown",
   "id": "fatal-aberdeen",
   "metadata": {
    "slideshow": {
     "slide_type": "subslide"
    }
   },
   "source": [
    "Make a sequence containing 3 names of people in this class."
   ]
  },
  {
   "cell_type": "code",
   "execution_count": null,
   "id": "anticipated-horse",
   "metadata": {},
   "outputs": [],
   "source": []
  },
  {
   "cell_type": "markdown",
   "id": "capable-enterprise",
   "metadata": {
    "slideshow": {
     "slide_type": "fragment"
    }
   },
   "source": [
    "Make a list of four animals, ordering them by size."
   ]
  },
  {
   "cell_type": "code",
   "execution_count": null,
   "id": "turned-recipient",
   "metadata": {},
   "outputs": [],
   "source": []
  },
  {
   "cell_type": "markdown",
   "id": "geographic-article",
   "metadata": {
    "slideshow": {
     "slide_type": "subslide"
    }
   },
   "source": [
    "Collect the set of all letters in your first name."
   ]
  },
  {
   "cell_type": "code",
   "execution_count": null,
   "id": "occasional-lying",
   "metadata": {},
   "outputs": [],
   "source": []
  },
  {
   "cell_type": "markdown",
   "id": "dietary-moment",
   "metadata": {
    "slideshow": {
     "slide_type": "fragment"
    }
   },
   "source": [
    "List examples of each type of collection in Python."
   ]
  },
  {
   "cell_type": "code",
   "execution_count": null,
   "id": "czech-touch",
   "metadata": {},
   "outputs": [],
   "source": []
  },
  {
   "cell_type": "markdown",
   "id": "ultimate-monte",
   "metadata": {
    "slideshow": {
     "slide_type": "slide"
    }
   },
   "source": [
    "## Aggregating Your Collections into Single Values (Descriptive Statistics)\n",
    "\n",
    "Python can use named **functions** that turn data into something else.  By doing this repeatedly, in sequence, we can build data processing pipelines!\n",
    "\n",
    "Functions in Python have the following syntax:\n",
    "\n",
    "```\n",
    "output = function(input)\n",
    "```\n",
    "\n",
    "First, let's look at some **built-in** functions to get a sense of how they work:  **min()**, **max()**, **sum()**, and **len()**:\n",
    "\n",
    "```python\n",
    ">>> min([1, 2, 3, 2])\n",
    "1\n",
    "\n",
    ">>> max([1, 2, 3, 2])\n",
    "3\n",
    "\n",
    ">>> sum([1, 2, 3, 2])\n",
    "8\n",
    "\n",
    ">>> len([1, 2, 3, 2])\n",
    "4\n",
    "```"
   ]
  },
  {
   "cell_type": "markdown",
   "id": "amazing-upgrade",
   "metadata": {
    "slideshow": {
     "slide_type": "subslide"
    }
   },
   "source": [
    "### Exercises: \n",
    "Read the following lines of Python and predict their output.  Then, run the code to see if you were correct."
   ]
  },
  {
   "cell_type": "markdown",
   "id": "controversial-climate",
   "metadata": {
    "slideshow": {
     "slide_type": "fragment"
    }
   },
   "source": [
    "```python\n",
    "min([3, 6, 5, 2])\n",
    "```"
   ]
  },
  {
   "cell_type": "code",
   "execution_count": null,
   "id": "brutal-tracy",
   "metadata": {},
   "outputs": [],
   "source": []
  },
  {
   "cell_type": "markdown",
   "id": "impressive-thousand",
   "metadata": {
    "slideshow": {
     "slide_type": "fragment"
    }
   },
   "source": [
    "```python\n",
    "max([3, 6, 5, 2])\n",
    "```"
   ]
  },
  {
   "cell_type": "code",
   "execution_count": null,
   "id": "increasing-biography",
   "metadata": {},
   "outputs": [],
   "source": []
  },
  {
   "cell_type": "markdown",
   "id": "sexual-fishing",
   "metadata": {
    "slideshow": {
     "slide_type": "fragment"
    }
   },
   "source": [
    "```python\n",
    "max([1, 2, 3, 4, 5, 6])\n",
    "```"
   ]
  },
  {
   "cell_type": "code",
   "execution_count": null,
   "id": "interested-corrections",
   "metadata": {},
   "outputs": [],
   "source": []
  },
  {
   "cell_type": "markdown",
   "id": "incorporate-receipt",
   "metadata": {
    "slideshow": {
     "slide_type": "subslide"
    }
   },
   "source": [
    "```python\n",
    "len({3, 4, 5, 5, 4})\n",
    "```"
   ]
  },
  {
   "cell_type": "code",
   "execution_count": null,
   "id": "adjustable-armenia",
   "metadata": {},
   "outputs": [],
   "source": []
  },
  {
   "cell_type": "markdown",
   "id": "underlying-limit",
   "metadata": {},
   "source": [
    "```python\n",
    "len([1, 2, 5, 6])\n",
    "```"
   ]
  },
  {
   "cell_type": "code",
   "execution_count": null,
   "id": "romantic-effectiveness",
   "metadata": {},
   "outputs": [],
   "source": []
  },
  {
   "cell_type": "markdown",
   "id": "monthly-eagle",
   "metadata": {
    "slideshow": {
     "slide_type": "fragment"
    }
   },
   "source": [
    "```python\n",
    "(min([1, 2]), max([3, 4, 5]))\n",
    "```"
   ]
  },
  {
   "cell_type": "code",
   "execution_count": null,
   "id": "independent-taste",
   "metadata": {},
   "outputs": [],
   "source": []
  },
  {
   "cell_type": "markdown",
   "id": "sudden-worship",
   "metadata": {
    "slideshow": {
     "slide_type": "subslide"
    }
   },
   "source": [
    "```python\n",
    "min([max((2, 4, 1)), len((2, 4, 1)), min(2, 4, 1)])\n",
    "```"
   ]
  },
  {
   "cell_type": "code",
   "execution_count": null,
   "id": "coral-jungle",
   "metadata": {},
   "outputs": [],
   "source": []
  },
  {
   "cell_type": "markdown",
   "id": "oriented-competition",
   "metadata": {
    "colab_type": "text",
    "id": "lVjmHfdIeaT3"
   },
   "source": [
    "## Statistics Functions from Numpy\n",
    "\n",
    "**Numpy** is a Python package that, among other things, has many useful statistics **functions**.  These take any array-like object as an input and can be found inside the **np** library.  Sometimes, the same functionality can be found both as a Numpy function  and an array method, giving you the choice of how you'd like to use it.  \n",
    "\n",
    "\n",
    "```python\n",
    ">>> np.mean([1, 2, 3, 4])\n",
    "2.5\n",
    "\n",
    ">>> np.ptp([1, 2, 3, 4])\n",
    "3\n",
    "```\n",
    "\n",
    "A couple lists of functions in Numpy can be found here:\n",
    "  - Math:  https://docs.scipy.org/doc/numpy-1.13.0/reference/routines.math.html\n",
    "  - Statistics: https://docs.scipy.org/doc/numpy-1.13.0/reference/routines.statistics.html\n",
    "\n",
    "We'll see more later."
   ]
  },
  {
   "cell_type": "markdown",
   "id": "another-birthday",
   "metadata": {
    "colab_type": "text",
    "id": "dvxWENoKfU63"
   },
   "source": [
    "**Exercise**: Using only Numpy functions, calculate the statistics on the following numbers:"
   ]
  },
  {
   "cell_type": "code",
   "execution_count": 4,
   "id": "prime-manchester",
   "metadata": {
    "colab": {
     "base_uri": "https://localhost:8080/",
     "height": 34
    },
    "colab_type": "code",
    "id": "zK-gBedWfU66",
    "outputId": "5298642f-ebaa-49e1-b231-58bd624e5706"
   },
   "outputs": [
    {
     "data": {
      "text/plain": [
       "[2, 8, 5, 9, 2, 4, 6]"
      ]
     },
     "execution_count": 4,
     "metadata": {},
     "output_type": "execute_result"
    }
   ],
   "source": [
    "data = [2, 8, 5, 9, 2, 4, 6]\n",
    "data"
   ]
  },
  {
   "cell_type": "markdown",
   "id": "revised-thanksgiving",
   "metadata": {
    "colab_type": "text",
    "id": "wU9eR-g3fU7C"
   },
   "source": [
    "1. Get the mean of the data."
   ]
  },
  {
   "cell_type": "code",
   "execution_count": null,
   "id": "cognitive-assault",
   "metadata": {
    "colab": {},
    "colab_type": "code",
    "id": "1jPswldbfU7E"
   },
   "outputs": [],
   "source": []
  },
  {
   "cell_type": "markdown",
   "id": "accessible-ireland",
   "metadata": {
    "colab_type": "text",
    "id": "AGlnNDHIfU7G"
   },
   "source": [
    "2. What is the sum of the data?"
   ]
  },
  {
   "cell_type": "code",
   "execution_count": null,
   "id": "protective-assist",
   "metadata": {
    "colab": {},
    "colab_type": "code",
    "id": "APSVzGrufU7I"
   },
   "outputs": [],
   "source": []
  },
  {
   "cell_type": "markdown",
   "id": "approved-monitoring",
   "metadata": {
    "colab_type": "text",
    "id": "EOLmR39hg-_d"
   },
   "source": [
    "3. What is the minimum of the data?"
   ]
  },
  {
   "cell_type": "code",
   "execution_count": null,
   "id": "verbal-divorce",
   "metadata": {
    "colab": {},
    "colab_type": "code",
    "id": "fuNClX8jhF2D"
   },
   "outputs": [],
   "source": []
  },
  {
   "cell_type": "markdown",
   "id": "stainless-relations",
   "metadata": {},
   "source": [
    "The Variance?"
   ]
  },
  {
   "cell_type": "code",
   "execution_count": null,
   "id": "directed-pride",
   "metadata": {},
   "outputs": [],
   "source": []
  },
  {
   "cell_type": "markdown",
   "id": "strong-zealand",
   "metadata": {
    "colab_type": "text",
    "id": "yHW6AmYRfU7J"
   },
   "source": [
    "The standard deviation?"
   ]
  },
  {
   "cell_type": "code",
   "execution_count": null,
   "id": "antique-november",
   "metadata": {
    "colab": {},
    "colab_type": "code",
    "id": "nEBQ9LMifU7K"
   },
   "outputs": [],
   "source": []
  },
  {
   "cell_type": "markdown",
   "id": "curious-reputation",
   "metadata": {},
   "source": [
    "The difference between the data's maximum and minimum? (\"peak-to-peak\")"
   ]
  },
  {
   "cell_type": "code",
   "execution_count": null,
   "id": "emotional-concentrate",
   "metadata": {},
   "outputs": [],
   "source": []
  },
  {
   "cell_type": "markdown",
   "id": "compliant-arrival",
   "metadata": {},
   "source": [
    "The data's median?"
   ]
  },
  {
   "cell_type": "code",
   "execution_count": null,
   "id": "chubby-command",
   "metadata": {},
   "outputs": [],
   "source": []
  },
  {
   "cell_type": "markdown",
   "id": "black-works",
   "metadata": {},
   "source": [
    "This data's median?"
   ]
  },
  {
   "cell_type": "code",
   "execution_count": null,
   "id": "widespread-knitting",
   "metadata": {},
   "outputs": [],
   "source": [
    "data2 = [2, 6, 7, np.nan, 9, 4, np.nan]"
   ]
  },
  {
   "cell_type": "markdown",
   "id": "actual-vatican",
   "metadata": {},
   "source": [
    "## Organizing Data into Names with Dictionaries\n",
    "\n",
    "\n",
    "Have too many variables?  Is it getting hard to keep things straight in your code?\n",
    "```python\n",
    "monday_breakfast = \"eggs\"\n",
    "monday_dinner = \"pasta\"\n",
    "monday_calories = 1500\n",
    "tuesday_breakfast = \"porridge\"\n",
    "tuesday_dinner = \"rice\"\n",
    "\n",
    "print(tuesday_dinner)\n",
    "```\n",
    "\n",
    "Python **Dicts** make it easier to organize data together in a single structure, and often you'll get data that is put into a dict.  For example, instead of having to write:\n",
    "\n",
    "\n",
    "A dict groups them together into **key-value pairs** with curly braces and lets you **index** values from it using the square brackets:\n",
    "\n",
    "```python\n",
    "monday = {\n",
    "    'breakfast': 'eggs', \n",
    "    'dinner': 'pasta',\n",
    "    'calories': 1500\n",
    "}\n",
    "tuesday = {\n",
    "    'breakfast': 'porridge',\n",
    "    'dinner': 'rice'\n",
    "}\n",
    "\n",
    "print(tuesday['dinner'])\n",
    "``\n",
    "\n",
    "Or even like this:\n",
    "    \n",
    "```python\n",
    "meals = {\n",
    "    'monday': {\n",
    "        'breakfast': 'eggs', \n",
    "        'dinner': 'pasta',\n",
    "        'calories': 1500\n",
    "    },\n",
    "    'tuesday': {\n",
    "        'breakfast': 'porridge', \n",
    "        'dinner': 'rice'\n",
    "    }\n",
    "}\n",
    "\n",
    "print(meals['tuesday']['dinner'])\n",
    "```"
   ]
  },
  {
   "cell_type": "markdown",
   "id": "olive-purse",
   "metadata": {},
   "source": [
    "### Exercise: Data Collection and Extraction\n",
    "\n",
    "Let's create some data! Make a dictionary called **results** containing 15 samples of these 2 different psychophysics experiments, along with the following info:\n",
    "\n",
    "  - \"simple_rt\": a list of 15 results from https://humanbenchmark.com/tests/reactiontime (click the big blue box in the top of the screen to start) \n",
    "  \n",
    "  - \"auto_rt\": (10 samples of this experiment) https://www.justpark.com/creative/reaction-time-test/\n",
    "\n"
   ]
  },
  {
   "cell_type": "code",
   "execution_count": 2,
   "id": "remarkable-drink",
   "metadata": {},
   "outputs": [],
   "source": [
    "data = {\n",
    "    # Data Goes here\n",
    "}"
   ]
  },
  {
   "cell_type": "markdown",
   "id": "likely-boating",
   "metadata": {},
   "source": [
    "#### Analysis Questions"
   ]
  },
  {
   "cell_type": "markdown",
   "id": "economic-klein",
   "metadata": {},
   "source": [
    "What was your mean reaction time in the \"simple_rt\" task?"
   ]
  },
  {
   "cell_type": "code",
   "execution_count": null,
   "id": "controlling-category",
   "metadata": {},
   "outputs": [],
   "source": []
  },
  {
   "cell_type": "markdown",
   "id": "forced-bibliography",
   "metadata": {},
   "source": [
    "What was your mean reaction time in the \"auto_rt\" task?"
   ]
  },
  {
   "cell_type": "code",
   "execution_count": null,
   "id": "organic-string",
   "metadata": {},
   "outputs": [],
   "source": []
  },
  {
   "cell_type": "markdown",
   "id": "unlimited-tissue",
   "metadata": {},
   "source": [
    "Which task had the greatest reaction time variance for you?"
   ]
  },
  {
   "cell_type": "code",
   "execution_count": null,
   "id": "critical-friendship",
   "metadata": {},
   "outputs": [],
   "source": []
  },
  {
   "cell_type": "markdown",
   "id": "crazy-button",
   "metadata": {},
   "source": [
    "\n",
    "Using a t-test, was there a significant difference between the reaction times for the two tasks?\n",
    "\n",
    "Example Code:  \n",
    "\n",
    "```python\n",
    "from scipy import stats\n",
    "stats.ttest_ind([1, 2, 3], [2, 3, 4])  \n",
    "```"
   ]
  },
  {
   "cell_type": "code",
   "execution_count": null,
   "id": "legal-soldier",
   "metadata": {},
   "outputs": [],
   "source": []
  },
  {
   "cell_type": "markdown",
   "id": "affected-experiment",
   "metadata": {},
   "source": [
    "### Exercise 2: A bigger Dataset\n",
    "\n",
    "Let's merge your data with everyone else's!  Let Nick know when you're ready, and he'll bring up the interactive dictionary creator.  Add a key with your special code (your favorite number) and add your reaction data to it, along with some polling info:\n",
    "  - \"sleep\": how many hours of sleep you got last night (an int)\n",
    "  - \"crepe\": whether you usually choose \"sweet\" or \"savory\" crepes?\n",
    "  - \"saw_lost\": have you seen more than 10 episodes of the American 2000 TV show \"Lost\"? (True or False)\n",
    "  \n",
    "  \n",
    "Nick will send you a file called \"reaction_times.json\" that will contian the data.  Put the file into the same folder as this notebook and load it with the following code:"
   ]
  },
  {
   "cell_type": "code",
   "execution_count": 8,
   "id": "forced-token",
   "metadata": {},
   "outputs": [],
   "source": [
    "from pathlib import Path\n",
    "import json"
   ]
  },
  {
   "cell_type": "code",
   "execution_count": 6,
   "id": "positive-newfoundland",
   "metadata": {},
   "outputs": [],
   "source": [
    "data = json.loads(Path(\"reaction_times.json\").read_text())\n",
    "data"
   ]
  },
  {
   "cell_type": "markdown",
   "id": "above-treaty",
   "metadata": {},
   "source": [
    "#### Analysis Questions\n",
    "\n",
    "Because of how dictionaries work, some questions will be easy to answer, and others more challenging.  Which ones will be which?"
   ]
  },
  {
   "cell_type": "markdown",
   "id": "funky-moldova",
   "metadata": {},
   "source": [
    "How much sleep did the person with the smallest id get?"
   ]
  },
  {
   "cell_type": "code",
   "execution_count": null,
   "id": "modified-carnival",
   "metadata": {},
   "outputs": [],
   "source": []
  },
  {
   "cell_type": "markdown",
   "id": "fabulous-pantyhose",
   "metadata": {},
   "source": [
    "Who had the fastest time in the \"simple_rt\" task?"
   ]
  },
  {
   "cell_type": "code",
   "execution_count": null,
   "id": "confused-catch",
   "metadata": {},
   "outputs": [],
   "source": []
  },
  {
   "cell_type": "markdown",
   "id": "traditional-moisture",
   "metadata": {},
   "source": [
    "What is the fastest time the person with the largest id got on the \"simple_rt\" task?"
   ]
  },
  {
   "cell_type": "code",
   "execution_count": null,
   "id": "underlying-friend",
   "metadata": {},
   "outputs": [],
   "source": []
  },
  {
   "cell_type": "markdown",
   "id": "embedded-intro",
   "metadata": {},
   "source": [
    "How many people preferred sweet crepes?"
   ]
  },
  {
   "cell_type": "code",
   "execution_count": null,
   "id": "moving-article",
   "metadata": {},
   "outputs": [],
   "source": []
  },
  {
   "cell_type": "markdown",
   "id": "olympic-scottish",
   "metadata": {},
   "source": [
    "What's the average amount of sleep everyone got last night?"
   ]
  },
  {
   "cell_type": "code",
   "execution_count": null,
   "id": "bottom-acoustic",
   "metadata": {},
   "outputs": [],
   "source": []
  },
  {
   "cell_type": "markdown",
   "id": "atlantic-impossible",
   "metadata": {},
   "source": [
    "*Takeaway*: The way we structure data can make some questions straightforward to answer and others difficult.  **Keys** tend to guide the \"lookup\" portion of the research question."
   ]
  }
 ],
 "metadata": {
  "kernelspec": {
   "display_name": "Python 3",
   "language": "python",
   "name": "python3"
  },
  "language_info": {
   "codemirror_mode": {
    "name": "ipython",
    "version": 3
   },
   "file_extension": ".py",
   "mimetype": "text/x-python",
   "name": "python",
   "nbconvert_exporter": "python",
   "pygments_lexer": "ipython3",
   "version": "3.8.3"
  }
 },
 "nbformat": 4,
 "nbformat_minor": 5
}
