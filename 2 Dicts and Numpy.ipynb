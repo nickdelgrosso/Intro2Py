{
 "cells": [
  {
   "cell_type": "markdown",
   "id": "registered-jamaica",
   "metadata": {
    "slideshow": {
     "slide_type": "slide"
    }
   },
   "source": [
    "## Grouping Together Your Data into a Collection\n",
    "Python also has operators for collecting related data together.  Most of this course will revolve around the pros and cons of different ways of collecting data, but let's take a look at them:\n",
    "\n",
    "| \"tuple\" (fixed sequence) | \"list\" (changeable sequence) | \"str\" (sequence of text characters) |  \"set\" {mathematical set) \n",
    "| :---------:| :----:    | :--------:    | :--------:    |\n",
    "|  (1, 2, 3) | [1, 2, 3] | \"123\" or '123' | {1, 2, 3} |"
   ]
  },
  {
   "cell_type": "markdown",
   "id": "hindu-bracket",
   "metadata": {
    "slideshow": {
     "slide_type": "subslide"
    }
   },
   "source": [
    "#### Exercises: Making Collections"
   ]
  },
  {
   "cell_type": "markdown",
   "id": "amber-constraint",
   "metadata": {},
   "source": [
    "Make four difference types of sequences, each containing only the numbers from 1 to 5."
   ]
  },
  {
   "cell_type": "code",
   "execution_count": 2,
   "id": "respected-vision",
   "metadata": {},
   "outputs": [
    {
     "data": {
      "text/plain": [
       "'Nick'"
      ]
     },
     "execution_count": 2,
     "metadata": {},
     "output_type": "execute_result"
    }
   ],
   "source": [
    "x = \"Nick\"\n",
    "x"
   ]
  },
  {
   "cell_type": "code",
   "execution_count": 4,
   "id": "alert-south",
   "metadata": {},
   "outputs": [
    {
     "data": {
      "text/plain": [
       "[1, 1, 2, 2, 1]"
      ]
     },
     "execution_count": 4,
     "metadata": {},
     "output_type": "execute_result"
    }
   ],
   "source": [
    "[1, 1, 2, 2, 1]"
   ]
  },
  {
   "cell_type": "code",
   "execution_count": 3,
   "id": "restricted-jewelry",
   "metadata": {},
   "outputs": [
    {
     "data": {
      "text/plain": [
       "{1, 2}"
      ]
     },
     "execution_count": 3,
     "metadata": {},
     "output_type": "execute_result"
    }
   ],
   "source": [
    "{1, 1, 2, 2, 1}"
   ]
  },
  {
   "cell_type": "code",
   "execution_count": null,
   "id": "traditional-destination",
   "metadata": {},
   "outputs": [],
   "source": []
  },
  {
   "cell_type": "code",
   "execution_count": null,
   "id": "residential-bottle",
   "metadata": {},
   "outputs": [],
   "source": []
  },
  {
   "cell_type": "markdown",
   "id": "utility-princeton",
   "metadata": {
    "slideshow": {
     "slide_type": "subslide"
    }
   },
   "source": [
    "Make a sequence containing 3 names of people in this class."
   ]
  },
  {
   "cell_type": "code",
   "execution_count": null,
   "id": "threaded-acquisition",
   "metadata": {},
   "outputs": [],
   "source": []
  },
  {
   "cell_type": "markdown",
   "id": "dangerous-leeds",
   "metadata": {
    "slideshow": {
     "slide_type": "fragment"
    }
   },
   "source": [
    "Make a list of four animals, ordering them by size."
   ]
  },
  {
   "cell_type": "code",
   "execution_count": null,
   "id": "trained-details",
   "metadata": {},
   "outputs": [],
   "source": []
  },
  {
   "cell_type": "markdown",
   "id": "ordered-wedding",
   "metadata": {
    "slideshow": {
     "slide_type": "subslide"
    }
   },
   "source": [
    "Collect the set of all letters in your first name."
   ]
  },
  {
   "cell_type": "code",
   "execution_count": null,
   "id": "green-hughes",
   "metadata": {},
   "outputs": [],
   "source": []
  },
  {
   "cell_type": "markdown",
   "id": "color-angle",
   "metadata": {
    "slideshow": {
     "slide_type": "fragment"
    }
   },
   "source": [
    "List examples of each type of collection in Python."
   ]
  },
  {
   "cell_type": "code",
   "execution_count": null,
   "id": "hydraulic-confusion",
   "metadata": {},
   "outputs": [],
   "source": []
  },
  {
   "cell_type": "code",
   "execution_count": null,
   "id": "anticipated-convergence",
   "metadata": {},
   "outputs": [],
   "source": []
  },
  {
   "cell_type": "code",
   "execution_count": null,
   "id": "introductory-lodging",
   "metadata": {},
   "outputs": [],
   "source": []
  },
  {
   "cell_type": "code",
   "execution_count": null,
   "id": "minimal-diameter",
   "metadata": {},
   "outputs": [],
   "source": []
  },
  {
   "cell_type": "markdown",
   "id": "based-timber",
   "metadata": {
    "colab_type": "text",
    "id": "lVjmHfdIeaT3"
   },
   "source": [
    "## Statistics Functions from Numpy\n",
    "\n",
    "**Numpy** is a Python package that, among other things, has many useful statistics **functions**.  These take any array-like object as an input and can be found inside the **np** library.  Sometimes, the same functionality can be found both as a Numpy function  and an array method, giving you the choice of how you'd like to use it.  \n",
    "\n",
    "\n",
    "```python\n",
    ">>> np.mean([1, 2, 3, 4])\n",
    "2.5\n",
    "\n",
    ">>> np.ptp([1, 2, 3, 4])\n",
    "3\n",
    "```\n",
    "\n",
    "A couple lists of functions in Numpy can be found here:\n",
    "  - Math:  https://docs.scipy.org/doc/numpy-1.13.0/reference/routines.math.html\n",
    "  - Statistics: https://docs.scipy.org/doc/numpy-1.13.0/reference/routines.statistics.html\n",
    "\n",
    "We'll see more later."
   ]
  },
  {
   "cell_type": "markdown",
   "id": "considerable-english",
   "metadata": {
    "colab_type": "text",
    "id": "dvxWENoKfU63"
   },
   "source": [
    "**Exercise**: Using only Numpy functions, calculate the statistics on the following numbers:"
   ]
  },
  {
   "cell_type": "code",
   "execution_count": 4,
   "id": "employed-shepherd",
   "metadata": {
    "colab": {
     "base_uri": "https://localhost:8080/",
     "height": 34
    },
    "colab_type": "code",
    "id": "zK-gBedWfU66",
    "outputId": "5298642f-ebaa-49e1-b231-58bd624e5706"
   },
   "outputs": [
    {
     "data": {
      "text/plain": [
       "[2, 8, 5, 9, 2, 4, 6]"
      ]
     },
     "execution_count": 4,
     "metadata": {},
     "output_type": "execute_result"
    }
   ],
   "source": [
    "data = [2, 8, 5, 9, 2, 4, 6]\n",
    "data"
   ]
  },
  {
   "cell_type": "markdown",
   "id": "helpful-furniture",
   "metadata": {
    "colab_type": "text",
    "id": "wU9eR-g3fU7C"
   },
   "source": [
    "1. Get the mean of the data."
   ]
  },
  {
   "cell_type": "code",
   "execution_count": null,
   "id": "labeled-retail",
   "metadata": {
    "colab": {},
    "colab_type": "code",
    "id": "1jPswldbfU7E"
   },
   "outputs": [],
   "source": []
  },
  {
   "cell_type": "markdown",
   "id": "threatened-corporation",
   "metadata": {
    "colab_type": "text",
    "id": "AGlnNDHIfU7G"
   },
   "source": [
    "2. What is the sum of the data?"
   ]
  },
  {
   "cell_type": "code",
   "execution_count": null,
   "id": "false-philippines",
   "metadata": {
    "colab": {},
    "colab_type": "code",
    "id": "APSVzGrufU7I"
   },
   "outputs": [],
   "source": []
  },
  {
   "cell_type": "markdown",
   "id": "significant-setup",
   "metadata": {
    "colab_type": "text",
    "id": "EOLmR39hg-_d"
   },
   "source": [
    "3. What is the minimum of the data?"
   ]
  },
  {
   "cell_type": "code",
   "execution_count": null,
   "id": "needed-biotechnology",
   "metadata": {
    "colab": {},
    "colab_type": "code",
    "id": "fuNClX8jhF2D"
   },
   "outputs": [],
   "source": []
  },
  {
   "cell_type": "markdown",
   "id": "valid-aspect",
   "metadata": {},
   "source": [
    "The Variance?"
   ]
  },
  {
   "cell_type": "code",
   "execution_count": null,
   "id": "optional-sterling",
   "metadata": {},
   "outputs": [],
   "source": []
  },
  {
   "cell_type": "markdown",
   "id": "stretch-beads",
   "metadata": {
    "colab_type": "text",
    "id": "yHW6AmYRfU7J"
   },
   "source": [
    "The standard deviation?"
   ]
  },
  {
   "cell_type": "code",
   "execution_count": null,
   "id": "explicit-tennessee",
   "metadata": {
    "colab": {},
    "colab_type": "code",
    "id": "nEBQ9LMifU7K"
   },
   "outputs": [],
   "source": []
  },
  {
   "cell_type": "markdown",
   "id": "cloudy-capital",
   "metadata": {},
   "source": [
    "The difference between the data's maximum and minimum? (\"peak-to-peak\")"
   ]
  },
  {
   "cell_type": "code",
   "execution_count": null,
   "id": "invalid-building",
   "metadata": {},
   "outputs": [],
   "source": []
  },
  {
   "cell_type": "markdown",
   "id": "third-calvin",
   "metadata": {},
   "source": [
    "The data's median?"
   ]
  },
  {
   "cell_type": "code",
   "execution_count": null,
   "id": "animated-ratio",
   "metadata": {},
   "outputs": [],
   "source": []
  },
  {
   "cell_type": "markdown",
   "id": "romance-bacon",
   "metadata": {},
   "source": [
    "This data's median?"
   ]
  },
  {
   "cell_type": "code",
   "execution_count": null,
   "id": "freelance-acceptance",
   "metadata": {},
   "outputs": [],
   "source": [
    "data2 = [2, 6, 7, np.nan, 9, 4, np.nan]"
   ]
  },
  {
   "cell_type": "markdown",
   "id": "ancient-formation",
   "metadata": {},
   "source": [
    "## Organizing Data into Names with Dictionaries\n",
    "\n",
    "\n",
    "Have too many variables?  Is it getting hard to keep things straight in your code?\n",
    "```python\n",
    "monday_breakfast = \"eggs\"\n",
    "monday_dinner = \"pasta\"\n",
    "monday_calories = 1500\n",
    "tuesday_breakfast = \"porridge\"\n",
    "tuesday_dinner = \"rice\"\n",
    "\n",
    "print(tuesday_dinner)\n",
    "```\n",
    "\n",
    "Python **Dicts** make it easier to organize data together in a single structure, and often you'll get data that is put into a dict.  For example, instead of having to write:\n",
    "\n",
    "\n",
    "A dict groups them together into **key-value pairs** with curly braces and lets you **index** values from it using the square brackets:\n",
    "\n",
    "```python\n",
    "monday = {\n",
    "    'breakfast': 'eggs', \n",
    "    'dinner': 'pasta',\n",
    "    'calories': 1500\n",
    "}\n",
    "tuesday = {\n",
    "    'breakfast': 'porridge',\n",
    "    'dinner': 'rice'\n",
    "}\n",
    "\n",
    "print(tuesday['dinner'])\n",
    "``\n",
    "\n",
    "Or even like this:\n",
    "    \n",
    "```python\n",
    "meals = {\n",
    "    'monday': {\n",
    "        'breakfast': 'eggs', \n",
    "        'dinner': 'pasta',\n",
    "        'calories': 1500\n",
    "    },\n",
    "    'tuesday': {\n",
    "        'breakfast': 'porridge', \n",
    "        'dinner': 'rice'\n",
    "    }\n",
    "}\n",
    "\n",
    "print(meals['tuesday']['dinner'])\n",
    "```"
   ]
  },
  {
   "cell_type": "markdown",
   "id": "cross-fetish",
   "metadata": {},
   "source": [
    "### Exercise: Data Collection and Extraction\n",
    "\n",
    "Let's create some data! Make a dictionary called **results** containing 15 samples of these 2 different psychophysics experiments, along with the following info:\n",
    "\n",
    "  - \"simple_rt\": a list of 15 results from https://humanbenchmark.com/tests/reactiontime (click the big blue box in the top of the screen to start) \n",
    "  \n",
    "  - \"auto_rt\": (10 samples of this experiment) https://www.justpark.com/creative/reaction-time-test/\n",
    "\n"
   ]
  },
  {
   "cell_type": "code",
   "execution_count": 2,
   "id": "lucky-dividend",
   "metadata": {},
   "outputs": [],
   "source": [
    "data = {\n",
    "    # Data Goes here\n",
    "}"
   ]
  },
  {
   "cell_type": "markdown",
   "id": "economic-basement",
   "metadata": {},
   "source": [
    "#### Analysis Questions"
   ]
  },
  {
   "cell_type": "markdown",
   "id": "union-vintage",
   "metadata": {},
   "source": [
    "What was your mean reaction time in the \"simple_rt\" task?"
   ]
  },
  {
   "cell_type": "code",
   "execution_count": null,
   "id": "valued-basic",
   "metadata": {},
   "outputs": [],
   "source": []
  },
  {
   "cell_type": "markdown",
   "id": "downtown-verification",
   "metadata": {},
   "source": [
    "What was your mean reaction time in the \"auto_rt\" task?"
   ]
  },
  {
   "cell_type": "code",
   "execution_count": null,
   "id": "waiting-coverage",
   "metadata": {},
   "outputs": [],
   "source": []
  },
  {
   "cell_type": "markdown",
   "id": "digital-resident",
   "metadata": {},
   "source": [
    "Which task had the greatest reaction time variance for you?"
   ]
  },
  {
   "cell_type": "code",
   "execution_count": null,
   "id": "little-generic",
   "metadata": {},
   "outputs": [],
   "source": []
  },
  {
   "cell_type": "markdown",
   "id": "loved-attribute",
   "metadata": {},
   "source": [
    "\n",
    "Using a t-test, was there a significant difference between the reaction times for the two tasks?\n",
    "\n",
    "Example Code:  \n",
    "\n",
    "```python\n",
    "from scipy import stats\n",
    "stats.ttest_ind([1, 2, 3], [2, 3, 4])  \n",
    "```"
   ]
  },
  {
   "cell_type": "code",
   "execution_count": null,
   "id": "proved-spokesman",
   "metadata": {},
   "outputs": [],
   "source": []
  },
  {
   "cell_type": "markdown",
   "id": "worth-swedish",
   "metadata": {},
   "source": [
    "### Exercise 2: A bigger Dataset\n",
    "\n",
    "Let's merge your data with everyone else's! Make a JSON text file with your dictionary (e.g. \"NDG.json\") and copy your reaction data dictionary to it, along with some polling info:\n",
    "  - \"sleep\": how many hours of sleep you got last night (an int)\n",
    "  - \"crepe\": whether you usually choose \"sweet\" or \"savory\" crepes?  \n",
    "  \n",
    "Send the file to Nick via Zoom chat, and he'll compile everyone's together for later analysis."
   ]
  }
 ],
 "metadata": {
  "kernelspec": {
   "display_name": "Python 3",
   "language": "python",
   "name": "python3"
  },
  "language_info": {
   "codemirror_mode": {
    "name": "ipython",
    "version": 3
   },
   "file_extension": ".py",
   "mimetype": "text/x-python",
   "name": "python",
   "nbconvert_exporter": "python",
   "pygments_lexer": "ipython3",
   "version": "3.8.3"
  }
 },
 "nbformat": 4,
 "nbformat_minor": 5
}
