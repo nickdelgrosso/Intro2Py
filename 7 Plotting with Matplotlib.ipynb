{
 "cells": [
  {
   "cell_type": "code",
   "execution_count": 8,
   "id": "intense-madison",
   "metadata": {},
   "outputs": [],
   "source": [
    "%matplotlib inline"
   ]
  },
  {
   "cell_type": "code",
   "execution_count": 9,
   "id": "known-graphics",
   "metadata": {},
   "outputs": [],
   "source": [
    "import numpy as np\n",
    "import matplotlib.pyplot as plt"
   ]
  },
  {
   "cell_type": "code",
   "execution_count": null,
   "id": "weighted-litigation",
   "metadata": {},
   "outputs": [],
   "source": [
    "plt.style.use('ggplot')  # See more options at https://matplotlib.org/stable/gallery/style_sheets/style_sheets_reference.html\n"
   ]
  },
  {
   "cell_type": "markdown",
   "id": "associate-freeze",
   "metadata": {},
   "source": [
    "# Plotting with Matplotlib\n",
    "\n",
    "Matplotlib is a popular data visualization package for Python; it's used to create figures for print publication.  Every figure is different, but we'll get a feeling for Matplotlib by making a few of its default graphs.\n",
    "\n",
    "Matplotlib doesn't have the prettiest defaults, but here you can see examples of matplotlib code that can be really beautiful:  https://www.python-graph-gallery.com/matplotlib/\n"
   ]
  },
  {
   "cell_type": "markdown",
   "id": "earned-amber",
   "metadata": {},
   "source": [
    "## Histograms: Visualizing 1-Dimensional Numerical Data\n",
    "\n",
    "Let's Visually explore Numpy's random data generation functions!  To plot a histogram of the data, we'll use the library **matplotlib**.  \n",
    "\n",
    "Here's how to import it:\n",
    "\n",
    "```python\n",
    "import matplotlib.pyplot as plt\n",
    "plt.hist([1, 2, 3, 4, 5])\n",
    "```"
   ]
  },
  {
   "cell_type": "markdown",
   "id": "intended-columbia",
   "metadata": {},
   "source": [
    "Make a histogram for the random.random() function.  How is the data distributed?"
   ]
  },
  {
   "cell_type": "code",
   "execution_count": null,
   "id": "moral-peter",
   "metadata": {},
   "outputs": [],
   "source": []
  },
  {
   "cell_type": "markdown",
   "id": "textile-policy",
   "metadata": {},
   "source": [
    "Make a histogram for the random.randn() function.  How is the data distributed?"
   ]
  },
  {
   "cell_type": "code",
   "execution_count": null,
   "id": "unusual-joint",
   "metadata": {},
   "outputs": [],
   "source": []
  },
  {
   "cell_type": "markdown",
   "id": "heavy-restoration",
   "metadata": {},
   "source": [
    "Make a histogram for the random.randint() function.  How is the data distributed?"
   ]
  },
  {
   "cell_type": "code",
   "execution_count": null,
   "id": "dominant-robinson",
   "metadata": {},
   "outputs": [],
   "source": []
  },
  {
   "cell_type": "markdown",
   "id": "considerable-narrow",
   "metadata": {},
   "source": [
    "## Line Plots: Visualizing Changes in a Contiuous Variable over Time\n",
    "\n",
    "Line plots show how a value changes; because it connects each point with a line, the order of the values matters.\n",
    "\n",
    "Using the **plt.plot()** function, plot:"
   ]
  },
  {
   "cell_type": "markdown",
   "id": "liked-encyclopedia",
   "metadata": {},
   "source": [
    "A sine wave"
   ]
  },
  {
   "cell_type": "code",
   "execution_count": null,
   "id": "billion-allah",
   "metadata": {},
   "outputs": [],
   "source": []
  },
  {
   "cell_type": "markdown",
   "id": "loose-tracker",
   "metadata": {},
   "source": [
    "A cosine wave"
   ]
  },
  {
   "cell_type": "code",
   "execution_count": null,
   "id": "dated-notebook",
   "metadata": {},
   "outputs": [],
   "source": []
  },
  {
   "cell_type": "markdown",
   "id": "unlikely-confusion",
   "metadata": {},
   "source": [
    "Normally-distributed data (should look like noise)"
   ]
  },
  {
   "cell_type": "code",
   "execution_count": null,
   "id": "military-linux",
   "metadata": {},
   "outputs": [],
   "source": []
  },
  {
   "cell_type": "markdown",
   "id": "homeless-stevens",
   "metadata": {},
   "source": [
    "A Sine wave, Cosine wave, and Noise (random data between -0.5 and 0.5) on the same figure.\n",
    "\n",
    "**Tip1**: If you call the plt.plot() function 3 times, they will all plot to the same figure!\n",
    "**Tip2**:  You can label your lines in a legend with the following:\n",
    "        \n",
    "```python\n",
    "plt.plot(data, label=\"Control Group\")\n",
    "plt.legend()\n",
    "```"
   ]
  },
  {
   "cell_type": "code",
   "execution_count": null,
   "id": "transparent-excerpt",
   "metadata": {},
   "outputs": [],
   "source": []
  },
  {
   "cell_type": "markdown",
   "id": "tender-safety",
   "metadata": {},
   "source": [
    "An x position can also be specified for each value.  This is useful if your data isn't evenly spaced:\n",
    "\n",
    "```python\n",
    "x = [1, 2, 5, 6]\n",
    "y = [2, 6, 3, 10]\n",
    "plt.plot(x, y)\n",
    "```\n",
    "\n",
    "Try this out!  Try to recreate the following plot using the plt.plot() function.  Label the axes with the following functions:\n",
    "\n",
    "| Function | Description | Example |\n",
    "| :----:   | :------:    | :-----: |\n",
    "| plt.title() | Sets the title | plt.title(\"My Great Plot\") |\n",
    "| plt.xlabel() | Sets the x-axis label | plt.xlabel(\"Temperature\") |\n",
    "| plt.ylabel() | Sets the y-axis label | plt.ylabel(\"Happiness\") |\n",
    "\n",
    "![Line Plot](https://datatofish.com/wp-content/uploads/2020/04/001_line_chart_python.png)\n"
   ]
  },
  {
   "cell_type": "markdown",
   "id": "studied-immune",
   "metadata": {},
   "source": [
    "Code here:"
   ]
  },
  {
   "cell_type": "code",
   "execution_count": null,
   "id": "handmade-pearl",
   "metadata": {},
   "outputs": [],
   "source": []
  },
  {
   "cell_type": "markdown",
   "id": "neural-package",
   "metadata": {},
   "source": [
    "### Labelling the Plots"
   ]
  },
  {
   "cell_type": "markdown",
   "id": "federal-biography",
   "metadata": {},
   "source": [
    "## Scatter Plots: Visualizing Relationships Between Two Continuous Variables\n",
    "\n",
    "Often, the order that the data appears doesn't matter; what you really care about is the relationship between matching points.  This is where the scatter plot shines!\n",
    "\n",
    "```python\n",
    "x = np.random.random(100)\n",
    "```\n"
   ]
  },
  {
   "cell_type": "markdown",
   "id": "subsequent-deficit",
   "metadata": {},
   "source": [
    "Run this code:"
   ]
  },
  {
   "cell_type": "code",
   "execution_count": 2,
   "id": "composite-sperm",
   "metadata": {},
   "outputs": [],
   "source": [
    "import numpy as np\n",
    "import matplotlib.pyplot as plt"
   ]
  },
  {
   "cell_type": "code",
   "execution_count": 6,
   "id": "electoral-stopping",
   "metadata": {},
   "outputs": [],
   "source": [
    "x = 2 * np.random.random(100)\n",
    "y = 2 * x + np.random.random(100)\n",
    "plt.scatter(x, y)"
   ]
  },
  {
   "cell_type": "markdown",
   "id": "innovative-moscow",
   "metadata": {},
   "source": [
    "What is the relationship between x and y?"
   ]
  },
  {
   "cell_type": "markdown",
   "id": "coordinate-season",
   "metadata": {},
   "source": [
    "## Challenge Exercise: Get P=.01\n",
    "\n",
    "Make two histograms of normally-distributed data.  Try to generate data that a t-test comparing the two groups would estimate at p=.01  \n",
    "\n",
    "Closest group to .01 without going over wins!"
   ]
  },
  {
   "cell_type": "code",
   "execution_count": null,
   "id": "referenced-improvement",
   "metadata": {},
   "outputs": [],
   "source": []
  }
 ],
 "metadata": {
  "kernelspec": {
   "display_name": "Python 3",
   "language": "python",
   "name": "python3"
  },
  "language_info": {
   "codemirror_mode": {
    "name": "ipython",
    "version": 3
   },
   "file_extension": ".py",
   "mimetype": "text/x-python",
   "name": "python",
   "nbconvert_exporter": "python",
   "pygments_lexer": "ipython3",
   "version": "3.8.3"
  }
 },
 "nbformat": 4,
 "nbformat_minor": 5
}
