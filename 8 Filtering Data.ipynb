{
 "cells": [
  {
   "cell_type": "code",
   "execution_count": 2,
   "id": "hawaiian-boost",
   "metadata": {},
   "outputs": [],
   "source": [
    "import numpy as np"
   ]
  },
  {
   "cell_type": "markdown",
   "id": "senior-brain",
   "metadata": {},
   "source": [
    "# Filtering Data\n",
    "\n",
    "Sometimes you want to remove certain values from your dataset.  In Numpy, this can be done with **Logical Indexing**, and in normal Python this is done with an **If Statement**"
   ]
  },
  {
   "cell_type": "markdown",
   "id": "magnetic-badge",
   "metadata": {},
   "source": [
    "## With Logical Indexing"
   ]
  },
  {
   "cell_type": "markdown",
   "id": "worth-generation",
   "metadata": {},
   "source": [
    "### Step 1: Create a Logical Numpy Array\n",
    "\n",
    "We can convert all of the values in an array at once with a single logical expression.  This is broadcasting, the same as is done with the math operations we saw earlier:\n",
    "\n",
    "```python\n",
    ">>> data = np.array([1, 2, 3, 4, 5])\n",
    ">>> data < 3\n",
    "[True, True, False, False, False]\n",
    "```"
   ]
  },
  {
   "cell_type": "markdown",
   "id": "described-pilot",
   "metadata": {},
   "source": [
    "**Exercises**: Make arrays of True/False values that answer the following questions about the dataset below for each element."
   ]
  },
  {
   "cell_type": "code",
   "execution_count": 22,
   "id": "blocked-dependence",
   "metadata": {},
   "outputs": [],
   "source": [
    "import numpy as np\n",
    "\n",
    "list_of_values = [3, 7, 10, 2, 1, 7, 20, -5]\n",
    "data = np.array(list_of_values)"
   ]
  },
  {
   "cell_type": "markdown",
   "id": "early-basketball",
   "metadata": {},
   "source": [
    "1. Which values are greater than zero?"
   ]
  },
  {
   "cell_type": "code",
   "execution_count": null,
   "id": "liquid-guidance",
   "metadata": {},
   "outputs": [],
   "source": []
  },
  {
   "cell_type": "markdown",
   "id": "toxic-moore",
   "metadata": {},
   "source": [
    "2. Which values are equal to 7?"
   ]
  },
  {
   "cell_type": "code",
   "execution_count": null,
   "id": "helpful-politics",
   "metadata": {},
   "outputs": [],
   "source": []
  },
  {
   "cell_type": "markdown",
   "id": "warming-review",
   "metadata": {},
   "source": [
    "3. Which values are greater or equal to 7?"
   ]
  },
  {
   "cell_type": "code",
   "execution_count": null,
   "id": "massive-platform",
   "metadata": {},
   "outputs": [],
   "source": []
  },
  {
   "cell_type": "markdown",
   "id": "frequent-lawsuit",
   "metadata": {},
   "source": [
    "4. Which values are not equal to 7?"
   ]
  },
  {
   "cell_type": "code",
   "execution_count": null,
   "id": "little-connection",
   "metadata": {},
   "outputs": [],
   "source": []
  },
  {
   "cell_type": "markdown",
   "id": "conservative-season",
   "metadata": {},
   "source": [
    "## Step 2: Filter with Logical Indexing\n",
    "\n",
    "If an array of True/False values is used to *index* another array, and both arrays are the same size, it will return all of the values that correspond to the True values of the indexing array:\n",
    "\n",
    "```python\n",
    ">>> data = np.array([1, 2, 3, 4, 5])\n",
    ">>> is_big = data > 3\n",
    ">>> is_big\n",
    "[False, False, False, True, True]\n",
    "\n",
    ">>> data[is_big]\n",
    "[4, 5]\n",
    "```\n"
   ]
  },
  {
   "cell_type": "markdown",
   "id": "sharing-liability",
   "metadata": {},
   "source": [
    "**Exercises**:  Using the data below, extract only the values that corresspond to each question"
   ]
  },
  {
   "cell_type": "code",
   "execution_count": 28,
   "id": "missing-security",
   "metadata": {},
   "outputs": [
    {
     "data": {
      "text/plain": [
       "array([ 3,  1, -6,  8, 20,  2,  7,  1,  9,  7,  7, -7])"
      ]
     },
     "execution_count": 28,
     "metadata": {},
     "output_type": "execute_result"
    }
   ],
   "source": [
    "data = np.array([3, 1, -6, 8, 20, 2, 7, 1, 9, 7, 7, -7])\n",
    "data"
   ]
  },
  {
   "cell_type": "markdown",
   "id": "defensive-people",
   "metadata": {},
   "source": [
    "1. The values that are less than 0"
   ]
  },
  {
   "cell_type": "code",
   "execution_count": null,
   "id": "precise-import",
   "metadata": {},
   "outputs": [],
   "source": []
  },
  {
   "cell_type": "markdown",
   "id": "sharp-aspect",
   "metadata": {},
   "source": [
    "2. The values that are greater than 3"
   ]
  },
  {
   "cell_type": "code",
   "execution_count": null,
   "id": "pediatric-breeding",
   "metadata": {},
   "outputs": [],
   "source": []
  },
  {
   "cell_type": "markdown",
   "id": "outdoor-zealand",
   "metadata": {},
   "source": [
    "3. The values equal to 7"
   ]
  },
  {
   "cell_type": "code",
   "execution_count": null,
   "id": "musical-aspect",
   "metadata": {},
   "outputs": [],
   "source": []
  },
  {
   "cell_type": "markdown",
   "id": "fuzzy-dressing",
   "metadata": {},
   "source": [
    "4. The values not equal to 7"
   ]
  },
  {
   "cell_type": "code",
   "execution_count": null,
   "id": "empirical-emergency",
   "metadata": {},
   "outputs": [],
   "source": []
  },
  {
   "cell_type": "markdown",
   "id": "sitting-acting",
   "metadata": {},
   "source": [
    "  5. The values equal to 20"
   ]
  },
  {
   "cell_type": "code",
   "execution_count": null,
   "id": "stainless-business",
   "metadata": {},
   "outputs": [],
   "source": []
  },
  {
   "cell_type": "markdown",
   "id": "demonstrated-tourism",
   "metadata": {},
   "source": [
    "### Step 2.5: Combine Step 1 and Step 2 into a single line\n",
    "\n",
    "Both steps can be done in a single expression.  Sometimes this can make things clearer!\n",
    "\n",
    "\n",
    "```python\n",
    ">>> data = np.array([1, 2, 3, 4, 5])\n",
    ">>> data[data > 3]\n",
    "[4, 5]\n",
    "```\n",
    "\n"
   ]
  },
  {
   "cell_type": "markdown",
   "id": "amber-hebrew",
   "metadata": {},
   "source": [
    "**Exercises**: Do the same as in the previous section, this time in a single line."
   ]
  },
  {
   "cell_type": "code",
   "execution_count": 28,
   "id": "concerned-latex",
   "metadata": {},
   "outputs": [
    {
     "data": {
      "text/plain": [
       "array([ 3,  1, -6,  8, 20,  2,  7,  1,  9,  7,  7, -7])"
      ]
     },
     "execution_count": 28,
     "metadata": {},
     "output_type": "execute_result"
    }
   ],
   "source": [
    "data = np.array([3, 1, -6, 8, 20, 2, 7, 1, 9, 7, 7, -7])\n",
    "data"
   ]
  },
  {
   "cell_type": "markdown",
   "id": "chief-lawrence",
   "metadata": {},
   "source": [
    "1. The values that are less than 0"
   ]
  },
  {
   "cell_type": "code",
   "execution_count": null,
   "id": "shaped-clinic",
   "metadata": {},
   "outputs": [],
   "source": []
  },
  {
   "cell_type": "markdown",
   "id": "under-flight",
   "metadata": {},
   "source": [
    "2. The values that are greater than 3"
   ]
  },
  {
   "cell_type": "code",
   "execution_count": null,
   "id": "empirical-marsh",
   "metadata": {},
   "outputs": [],
   "source": []
  },
  {
   "cell_type": "markdown",
   "id": "serious-finance",
   "metadata": {},
   "source": [
    "3. The values equal to 7"
   ]
  },
  {
   "cell_type": "code",
   "execution_count": null,
   "id": "sweet-meaning",
   "metadata": {},
   "outputs": [],
   "source": []
  },
  {
   "cell_type": "markdown",
   "id": "young-coalition",
   "metadata": {},
   "source": [
    "4. The values not equal to 7"
   ]
  },
  {
   "cell_type": "code",
   "execution_count": null,
   "id": "computational-quebec",
   "metadata": {},
   "outputs": [],
   "source": []
  },
  {
   "cell_type": "markdown",
   "id": "martial-enhancement",
   "metadata": {},
   "source": [
    "  5. The values equal to 20"
   ]
  },
  {
   "cell_type": "code",
   "execution_count": null,
   "id": "forward-comparison",
   "metadata": {},
   "outputs": [],
   "source": []
  },
  {
   "cell_type": "code",
   "execution_count": null,
   "id": "supreme-purse",
   "metadata": {},
   "outputs": [],
   "source": []
  },
  {
   "cell_type": "markdown",
   "id": "surprised-airfare",
   "metadata": {},
   "source": [
    "Using the following dataset, have Python to calculate the answers to the questions below:"
   ]
  },
  {
   "cell_type": "code",
   "execution_count": 29,
   "id": "incoming-pierce",
   "metadata": {},
   "outputs": [
    {
     "data": {
      "text/plain": [
       "array([ 3,  1, -6,  8, 20,  2,  7,  1,  9,  7,  7, -7])"
      ]
     },
     "execution_count": 29,
     "metadata": {},
     "output_type": "execute_result"
    }
   ],
   "source": [
    "data = np.array([3, 1, -6, 8, 20, 2, 7, 1, 9, 7, 7, -7])\n",
    "data"
   ]
  },
  {
   "cell_type": "markdown",
   "id": "virgin-distributor",
   "metadata": {},
   "source": [
    "1. How many values are greater than 4 in this dataset?  (*Hint:* the len() function is useful here)"
   ]
  },
  {
   "cell_type": "code",
   "execution_count": null,
   "id": "removed-fashion",
   "metadata": {},
   "outputs": [],
   "source": []
  },
  {
   "cell_type": "markdown",
   "id": "alive-vegetation",
   "metadata": {},
   "source": [
    "2. How many values are equal to 7 in this dataset?"
   ]
  },
  {
   "cell_type": "code",
   "execution_count": null,
   "id": "racial-convertible",
   "metadata": {},
   "outputs": [],
   "source": []
  },
  {
   "cell_type": "markdown",
   "id": "corresponding-hepatitis",
   "metadata": {},
   "source": [
    "3. What is the mean value of the positive numbers in this dataset?"
   ]
  },
  {
   "cell_type": "code",
   "execution_count": null,
   "id": "connected-banking",
   "metadata": {},
   "outputs": [],
   "source": []
  },
  {
   "cell_type": "markdown",
   "id": "english-conflict",
   "metadata": {},
   "source": [
    "4. What is the mean value of the negative numbers in this dataset?"
   ]
  },
  {
   "cell_type": "code",
   "execution_count": null,
   "id": "activated-missile",
   "metadata": {},
   "outputs": [],
   "source": []
  },
  {
   "cell_type": "markdown",
   "id": "breeding-collective",
   "metadata": {},
   "source": [
    "5. What proportion of the values in this dataset are positive?"
   ]
  },
  {
   "cell_type": "code",
   "execution_count": null,
   "id": "driving-midwest",
   "metadata": {},
   "outputs": [],
   "source": []
  },
  {
   "cell_type": "markdown",
   "id": "alternate-brick",
   "metadata": {},
   "source": [
    "6. What proportion of the values in this dataset are less than or equal to 8?"
   ]
  },
  {
   "cell_type": "code",
   "execution_count": null,
   "id": "seasonal-memorabilia",
   "metadata": {},
   "outputs": [],
   "source": []
  },
  {
   "cell_type": "markdown",
   "id": "dominican-surge",
   "metadata": {},
   "source": [
    "## Visual Filtering: Selecting Data in your Plots\n",
    "\n",
    "**Exercise**: Load the \"cell.jpg\" image, and change \"red\" channel of the the brightest parts of the image (the nuclei, more or less) to 255. "
   ]
  },
  {
   "cell_type": "code",
   "execution_count": null,
   "id": "ranging-jamaica",
   "metadata": {},
   "outputs": [],
   "source": []
  }
 ],
 "metadata": {
  "kernelspec": {
   "display_name": "Python 3",
   "language": "python",
   "name": "python3"
  },
  "language_info": {
   "codemirror_mode": {
    "name": "ipython",
    "version": 3
   },
   "file_extension": ".py",
   "mimetype": "text/x-python",
   "name": "python",
   "nbconvert_exporter": "python",
   "pygments_lexer": "ipython3",
   "version": "3.8.3"
  }
 },
 "nbformat": 4,
 "nbformat_minor": 5
}
